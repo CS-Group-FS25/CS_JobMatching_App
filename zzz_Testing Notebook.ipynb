{
 "cells": [
  {
   "cell_type": "code",
   "execution_count": null,
   "metadata": {},
   "outputs": [
    {
     "name": "stdout",
     "output_type": "stream",
     "text": [
      "200 OK\n",
      "b'{\"totalCount\":2166,\"jobs\":[{\"title\":\"Senior Security Engineer\",\"location\":\"Los Angeles, CA\",\"snippet\":\"&nbsp;...addition, this position will have significant responsibilities for the administration, engineering, auditing, and documentation of various <b>IT </b>Security related systems across the enterprise. \\\\r\\\\n This role will work closely with the Enterprise Architecture and Service Delivery...&nbsp;\",\"salary\":\"\",\"source\":\"topechelon.com\",\"type\":\"Full-time\",\"link\":\"https://jooble.org/jdp/-1228752169486798667\",\"company\":\"SourcePro Search, LLC\",\"updated\":\"2025-02-26T07:32:46.1970000\",\"id\":-1228752169486798667},{\"title\":\"Chief Technology Officer, Administrative Operations and Auxiliary Services | University of Southern California (USC)\",\"location\":\"Los Angeles, CA\",\"snippet\":\"&nbsp;...Auxiliary Services with a dotted line to the Senior Vice President for Administration, the CTO will oversee information technology (<b>IT)</b> operations, program planning, and strategic development for the two divisions, driving innovation and operational excellence across...&nbsp;\",\"salary\":\"\",\"source\":\"hercjobs.org\",\"type\":\"\",\"link\":\"https://jooble.org/jdp/-521751490689645406\",\"company\":\"University of Southern California (USC)\",\"updated\":\"2025-03-31T00:00:00.0000000\",\"id\":-521751490689645406},{\"title\":\"senior Data Security Engineer || Los Angeles, California- Remote\",\"location\":\"Los Angeles, CA\",\"snippet\":\"&nbsp;...Scrum and Agile methodologies \\\\r\\\\n Bachelor\\'s Degree in Computer Science, Information Systems equivalent industry experience \\\\r\\\\n    Nikesh Mishra  \\\\r\\\\n  <b>IT </b>Technical Recruiter  \\\\r\\\\n  Phone  : (***) ***-**** \\\\r\\\\n  Email:  ****@*****.***  \\\\r\\\\n  Gtalk:  ****@*****.***...&nbsp;\",\"salary\":\"\",\"source\":\"ceipal.com\",\"type\":\"\",\"link\":\"https://jooble.org/jdp/1382221582175516169\",\"company\":\"Stellent IT LLC\",\"updated\":\"2025-04-08T00:00:00.0000000\",\"id\":1382221582175516169},{\"title\":\"Data Analyst\",\"location\":\"Los Angeles, CA\",\"snippet\":\" Sawhorse Productions is a Los Angeles based, Award winning full-service creative studio turning ideas into unforgettable experiences through captivating branded content, viral social moments, and groundbreaking interactive experiences. We partner with industry-leading ...\",\"salary\":\"\",\"source\":\"workable.com\",\"type\":\"Temporary\",\"link\":\"https://jooble.org/jdp/-8319490607204490117\",\"company\":\"Sawhorse Productions\",\"updated\":\"2025-04-03T12:06:57.4725845+00:00\",\"id\":-8319490607204490117},{\"title\":\"Control Testing /Reporting Analyst 1LOD\",\"location\":\"Los Angeles, CA\",\"snippet\":\"Overview:\\\\n CONTROL TESTING /REPORTING ANALYST 1LOD \\\\r\\\\n WHAT IS THE OPPORTUNITY?\\\\r\\\\n The Centre of Excellence (CoE) is responsible for performing control testing for all of CNB\\'s first line key controls. The 1LOD Control Testing/Reporting Analyst is a key strategic and integral...\",\"salary\":\"\",\"source\":\"icims.com\",\"type\":\"Full-time\",\"link\":\"https://jooble.org/jdp/-1210987929909565662\",\"company\":\"City National Bank\",\"updated\":\"2025-03-19T00:00:00.0000000\",\"id\":-1210987929909565662},{\"title\":\"Cyber - engineer - senior - consulting\",\"location\":\"Los Angeles, CA\",\"snippet\":\"&nbsp;...ethical standards and integrity among its employees and expects all candidates to demonstrate these qualities. \\\\r\\\\n In an ever-evolving <b>IT </b>landscape, EY stands as a beacon of trust for clients across diverse industries seeking reliable solutions to address their intricate...&nbsp;\",\"salary\":\"\",\"source\":\"jobs.institutedata.com\",\"type\":\"Full-time\",\"link\":\"https://jooble.org/jdp/3164883704888491063\",\"company\":\"EY\",\"updated\":\"2025-04-10T09:48:37.5000000\",\"id\":3164883704888491063},{\"title\":\"Sr.Data Scientist\",\"location\":\"Los Angeles, CA\",\"snippet\":\" Sr.Data Scientist \\\\r\\\\n Northridge, CA \\\\r\\\\n12 months+ \\\\r\\\\n The ideal candidate should have: \\\\r\\\\n Client is looking for someone who is a Machine Learning Engineer. Have experience like this: \\\\r\\\\n Industry machine learning experience doesn\\xe2\\x80\\x99t have to be healthcare \\\\r\\\\n have successfully...\",\"salary\":\"\",\"source\":\"cloudaat.com\",\"type\":\"\",\"link\":\"https://jooble.org/jdp/786404047642784112\",\"company\":\"Cloud Analytics Technologies LLC\",\"updated\":\"2025-04-06T00:00:00.0000000\",\"id\":786404047642784112},{\"title\":\"Staff Data Scientist, Apps Team\",\"location\":\"Culver City, CA\",\"snippet\":\"The applications data science team is looking for an experienced staff-level data scientist who can build machine learning modeling capabilities as well as lead the development of impactful data products and insights. We support user growth of subscription services, product...\",\"salary\":\"\",\"source\":\"jobs.apple.com\",\"type\":\"\",\"link\":\"https://jooble.org/jdp/4065520781420873971\",\"company\":\"Apple Inc.\",\"updated\":\"2025-03-19T00:00:00.0000000\",\"id\":4065520781420873971},{\"title\":\"Security Engineer\",\"location\":\"El Segundo, CA\",\"snippet\":\"\\\\r\\\\n\\xe2\\x80\\x8b\\xe2\\x80\\x8b\\xc2\\xa0\\\\r\\\\n Quick Position Facts!\\\\r\\\\n Location:  El Segundo, CA \\\\r\\\\n Job Code: 034\\\\r\\\\n Work Setting:  In person at customer site \\\\r\\\\n Looking to Start:  April 2025\\\\r\\\\n Salary Range: $90,000+ based on experience, education, and qualifications \\\\r\\\\n Openings: 1 Full-Time Role \\\\r\\\\n Knowledge...\",\"salary\":\"\",\"source\":\"jazzhr.com\",\"type\":\"Full-time\",\"link\":\"https://jooble.org/jdp/4863786010209903360\",\"company\":\"G2 Ops, Inc.\",\"updated\":\"2025-03-25T00:00:00.0000000\",\"id\":4863786010209903360},{\"title\":\"Programmer Analyst | University of Southern California (USC)\",\"location\":\"Los Angeles, CA\",\"snippet\":\"&nbsp;...prioritize and manage multiple tasks \\\\r\\\\n Excellent organizational skills \\\\r\\\\n Due to the collaborative, multi-lab nature of this project, <b>it </b>is essential for an applicant to have excellent organizational and communication skills  \\\\r\\\\n  \\\\r\\\\n  The hourly rate range for this...&nbsp;\",\"salary\":\"\",\"source\":\"hercjobs.org\",\"type\":\"\",\"link\":\"https://jooble.org/jdp/-5128046633697578020\",\"company\":\"University of Southern California (USC)\",\"updated\":\"2025-03-09T00:00:00.0000000\",\"id\":-5128046633697578020},{\"title\":\"Programmer Analyst\",\"location\":\"Los Angeles, CA\",\"snippet\":\"&nbsp;...prioritize and manage multiple tasks \\\\r\\\\n Excellent organizational skills \\\\r\\\\n Due to the collaborative, multi-lab nature of this project, <b>it </b>is essential for an applicant to have excellent organizational and communication skills \\\\r\\\\n\\\\r\\\\n The hourly rate range for this position...&nbsp;\",\"salary\":\"\",\"source\":\"jobs.usc.edu\",\"type\":\"\",\"link\":\"https://jooble.org/jdp/-357496425860976220\",\"company\":\"USC\",\"updated\":\"2025-03-17T00:00:00.0000000\",\"id\":-357496425860976220},{\"title\":\"Sr Data Analyst\",\"location\":\"Santa Monica, CA\",\"snippet\":\" Job Summary: \\\\r\\\\n ABOUT THE ROLE \\\\r\\\\n The  Direct to Consumer  Data & Analytics organization is seeking a Senior Decision Analyst who will be an exceptional addition to our Strategic Forecasting & Decision Analytics team. As Sr. Decision Analyst, you will join our team that...\",\"salary\":\"\",\"source\":\"jobs.disneycareers.com\",\"type\":\"\",\"link\":\"https://jooble.org/jdp/-1711127776089706813\",\"company\":\"Disney Direct to Consumer\",\"updated\":\"2025-03-31T00:00:00.0000000\",\"id\":-1711127776089706813},{\"title\":\"Oracle Database Administrator\",\"location\":\"Los Angeles, CA\",\"snippet\":\"&nbsp;...Analyze and resolve slow queries, deadlocks, and resource utilization issues. \\\\r\\\\n Cross-Functional Support & Automation \\\\r\\\\n Collaborate with <b>IT,</b> application, and business teams to ensure smooth database operations. \\\\r\\\\n Automate database maintenance, monitoring, and reporting...&nbsp;\",\"salary\":\"\",\"source\":\"jobscore.com\",\"type\":\"Full-time\",\"link\":\"https://jooble.org/jdp/-3204438432260956872\",\"company\":\"Caldera Medical\",\"updated\":\"2025-04-09T18:44:15.8070000\",\"id\":-3204438432260956872},{\"title\":\"Data Scientist - Spectum News 1\",\"location\":\"El Segundo, CA\",\"snippet\":\" Responsible for developing data-driven solutions to Charter\\xe2\\x80\\x99s business problems. Utilizes analytical, statistical, and programming skills to clean, aggregate, and analyze large data sets and interpret results. This position requires a strong command of statistical techniques...\",\"salary\":\"\",\"source\":\"spectrum.com\",\"type\":\"Full-time\",\"link\":\"https://jooble.org/jdp/-2181722957790143711\",\"company\":\"Spectrum\",\"updated\":\"2025-04-10T15:36:48.9869628+00:00\",\"id\":-2181722957790143711},{\"title\":\"DA2 Data Analyst\",\"location\":\"Los Angeles, CA\",\"snippet\":\" IV.AI  is looking for a Data Analyst to join and help perform data analysis on diverse datasets and machine learning model outputs for large enterprise clients and for internal initiatives and products. The ideal candidate should be helpful, responsive, dependable, and...\",\"salary\":\"$50k - $80k\",\"source\":\"swooped.co\",\"type\":\"\",\"link\":\"https://jooble.org/jdp/-6224067088654955427\",\"company\":\"IV.AI\",\"updated\":\"2025-03-14T16:24:25.3470000\",\"id\":-6224067088654955427},{\"title\":\"Data Architect\",\"location\":\"Glendale, CA\",\"snippet\":\" Role: Data Architect  \\\\r\\\\n  Location: Glendale, CA  \\\\r\\\\n  Duration: contract (4 days onsite hybrid) \\\\r\\\\n  Rate: $85/hourly on W-2 \\\\r\\\\n \\\\r\\\\n  Role & Responsibilities:  \\\\r\\\\n  \\\\r\\\\n Collaborate with business stakeholders and product managers to understand data requirements and develop data...\",\"salary\":\"\",\"source\":\"oorwin.com\",\"type\":\"\",\"link\":\"https://jooble.org/jdp/2257343313724389474\",\"company\":\"Amtec\",\"updated\":\"2025-03-25T21:46:59.6100000\",\"id\":2257343313724389474},{\"title\":\"Network Security Engineer\",\"location\":\"Los Angeles, CA\",\"snippet\":\" Our top ranked client is seeking an experienced Network Security Engineer to join their growing team.\\\\n \\\\r\\\\n This role offers a competitive base, excellent growth potential and a fantastic firm culture. \\\\r\\\\n \\\\r\\\\n The ideal candidate will make things more secure by improving existing...\",\"salary\":\"\",\"source\":\"topechelon.com\",\"type\":\"Full-time\",\"link\":\"https://jooble.org/jdp/-7189569200017227049\",\"company\":\"SourcePro Search, LLC\",\"updated\":\"2025-02-26T12:22:51.3530000\",\"id\":-7189569200017227049},{\"title\":\"AI & GenAI Data Scientist - Manager Save for Later Remove job\",\"location\":\"Los Angeles, CA\",\"snippet\":\"\\\\r\\\\n At PwC, our people in data and analytics focus on leveraging data to drive insights and make informed business decisions. They utilise advanced analytics techniques to help clients optimise their operations and achieve their strategic goals.\\\\nIn data analysis at PwC, ...\",\"salary\":\"\",\"source\":\"jobs.us.pwc.com\",\"type\":\"Full-time\",\"link\":\"https://jooble.org/jdp/-7318812391980431610\",\"company\":\"PwC\",\"updated\":\"2025-04-10T03:54:46.4500000\",\"id\":-7318812391980431610},{\"title\":\"Data Migration Engineer\",\"location\":\"Los Angeles, CA\",\"snippet\":\" DatamanUSA has an exciting opportunity for a  Data Migration Engineer  to work with one of our direct clients in Los Angeles, CA.  \\\\r\\\\n  \\\\r\\\\n Job Title:\\xe2\\x80\\x82 Data Migration Engineer \\\\r\\\\n Duration:  12 months (with possibility of extension)\\xc2\\xa0\\\\r\\\\n Location:  Los Angeles, CA (Remote)\\\\r...\",\"salary\":\"\",\"source\":\"oorwin.com\",\"type\":\"\",\"link\":\"https://jooble.org/jdp/6351150106697699423\",\"company\":\"Datamanusa\",\"updated\":\"2025-04-11T12:45:32.6575902+00:00\",\"id\":6351150106697699423},{\"title\":\"Data Engineer\",\"location\":\"Los Angeles, CA\",\"snippet\":\"Job Details \\\\r\\\\n Description \\\\r\\\\n Title:  Data Engineer \\\\r\\\\n Department:  Baseball Operations \\\\r\\\\n Status: Full-Time \\\\r\\\\n Pay Rate: $120,000 - $130,000/year*\\\\r\\\\n Reports to: Senior Director, Baseball Systems Platforms \\\\r\\\\n~ Compensation rates vary based on job-related factors, including...\",\"salary\":\"\",\"source\":\"snapjobsearch.com\",\"type\":\"\",\"link\":\"https://jooble.org/jdp/-8931307951100045909\",\"company\":\"Los Angeles Dodgers\",\"updated\":\"2025-03-22T14:15:36.1530000\",\"id\":-8931307951100045909},{\"title\":\"Software Engineer - AI/Machine Translation\",\"location\":\"Beverly Hills, CA\",\"snippet\":\" Software Engineer - AI/Machine Translation \\\\r\\\\n Job Type: Full-Time \\\\r\\\\n Location: This position is fully remote but limited to applicants residing in Alaska, Arizona, California, Colorado, Connecticut, Florida, Georgia, Illinois, Maine, Missouri, New Jersey, Nevada, Ohio,...\",\"salary\":\"\",\"source\":\"hiringthing.com\",\"type\":\"\",\"link\":\"https://jooble.org/jdp/2438034735420994225\",\"company\":\"Snail Games USA\",\"updated\":\"2025-04-02T10:25:37.1888320+00:00\",\"id\":2438034735420994225},{\"title\":\"Security Engineer\",\"location\":\"Santa Monica, CA\",\"snippet\":\"&nbsp;...We\\'re looking for a  Security Engineer \\\\r\\\\n This role is  Hybrid,\\xc2\\xa0Santa Monica Office \\\\r\\\\n The  Security Engineer  , <b>IT </b>Security and Compliance position is a hands-on role that involves evaluating and enforcing security and compliance controls. This position plays an integral...&nbsp;\",\"salary\":\"\",\"source\":\"csod.com\",\"type\":\"\",\"link\":\"https://jooble.org/jdp/-6454583010872957220\",\"updated\":\"2025-03-05T00:00:00.0000000\",\"id\":-6454583010872957220},{\"title\":\"Data Science Analyst\",\"location\":\"Pasadena, CA\",\"snippet\":\"Data Science Analyst needs 5+ years\\' data analysis, banking experience \\\\r\\\\n Data Science Analyst requires: \\\\r\\\\n Practical experience with ETL, data processing, database programming and data analytics \\\\r\\\\n Extensive background in data mining and statistical analysis \\\\r\\\\n Able to...\",\"salary\":\"\",\"source\":\"get.it\",\"type\":\"Full-time\",\"link\":\"https://jooble.org/jdp/-1055737866615816568\",\"company\":\"Global Channel Management, Inc.\",\"updated\":\"2025-04-11T13:00:29.0483354+00:00\",\"id\":-1055737866615816568},{\"title\":\"Sr Network Engineer\",\"location\":\"Los Angeles, CA\",\"snippet\":\"&nbsp;...goal of driving sustainable and healthy growth over the long term. \\\\r\\\\n About Integritek\\xe2\\x80\\xa6\\\\r\\\\n Integritek is a premier provider of managed <b>IT </b>services, offering comprehensive technology support and solutions to clients around the globe. We provide technology services with...&nbsp;\",\"salary\":\"\",\"source\":\"breezy.hr\",\"type\":\"Full-time\",\"link\":\"https://jooble.org/jdp/-3349697703147400094\",\"company\":\"Lyra Technology Group\",\"updated\":\"2025-04-01T00:00:00.0000000\",\"id\":-3349697703147400094},{\"title\":\"Programmer Analyst II | University of Southern California (USC)\",\"location\":\"Los Angeles, CA\",\"snippet\":\"&nbsp;...closely with the departments  Research Programmer II, and Psychiatry Leadership Team  to  develop, operate, and maintain software and <b>IT </b>systems, in support of clinical operations  .  \\\\r\\\\n  \\\\r\\\\n  Responsibilities include but are not limited to  :  \\\\r\\\\n \\\\r\\\\n Follow design...&nbsp;\",\"salary\":\"\",\"source\":\"hercjobs.org\",\"type\":\"\",\"link\":\"https://jooble.org/jdp/5586196024746563389\",\"company\":\"University of Southern California (USC)\",\"updated\":\"2025-03-07T00:00:00.0000000\",\"id\":5586196024746563389},{\"title\":\"Data Scientist - T&S, Fraud and CX\",\"location\":\"Santa Monica, CA\",\"snippet\":\" Data Scientist - T&S, Fraud and CX \\\\r\\\\n At favorited, we believe that digital communities should be more than just spaces to watch content. With backing by a16z and other heavy hitters in the tech and entertainment space, we\\xe2\\x80\\x99re redefining mobile live-streaming as a fully...\",\"salary\":\"\",\"source\":\"recruitee.com\",\"type\":\"Full-time\",\"link\":\"https://jooble.org/jdp/-4019397140928570997\",\"company\":\"Like Labs, Inc.\",\"updated\":\"2025-03-25T00:00:00.0000000\",\"id\":-4019397140928570997},{\"title\":\"Security Engineer II - IS Security - Full Time 8 Hour Days (Non-Exempt) (Non-Union) | University of Southern California (USC)\",\"location\":\"Los Angeles, CA\",\"snippet\":\"&nbsp;...weekend support where necessary for a 24x7 incident response model. \\\\r\\\\n Follow established IS procedures to ensure the safety of the <b>IT </b>systems and assets. \\\\r\\\\n Investigate and remediate incidents with standard Incident Response protocols. Inclusive of escalations and communications...&nbsp;\",\"salary\":\"\",\"source\":\"hercjobs.org\",\"type\":\"\",\"link\":\"https://jooble.org/jdp/9094744260646509411\",\"company\":\"University of Southern California (USC)\",\"updated\":\"2025-03-24T00:00:00.0000000\",\"id\":9094744260646509411},{\"title\":\"Technical Project Manager - Contractor to Hire\",\"location\":\"Los Angeles, CA\",\"snippet\":\" Please note: 1) this is not a developer role; 2) applicants with digital agency, project management, client-facing experience will be prioritized. \\\\r\\\\n\\\\r\\\\n Technical Project Manager\\xc2\\xa0 Are you an experienced technical project manager looking for a freelance agreement in a professionally...\",\"salary\":\"\",\"source\":\"jazzhr.com\",\"type\":\"\",\"link\":\"https://jooble.org/jdp/-1798227494241541735\",\"company\":\"Urban Insight\",\"updated\":\"2025-03-28T00:00:00.0000000\",\"id\":-1798227494241541735},{\"title\":\"Sr. Technical Project Manager\",\"location\":\"El Segundo, CA\",\"snippet\":\"Description\\\\r\\\\n\\\\r\\\\nWe are looking for a Senior Technical Program Manager to join our Technology Organization. We drive cross-functional alignment, create process efficiencies and deliver large-scale strategic initiatives in a rapidly growing Technology space.\\\\r\\\\nThe ideal candidate...\",\"salary\":\"\",\"source\":\"Internet Brands\",\"type\":\"\",\"link\":\"https://jooble.org/jdp/-5572639692408615997\",\"company\":\"Internet Brands\",\"updated\":\"2025-03-24T17:38:06.3100000\",\"id\":-5572639692408615997},{\"title\":\"Web Developer\",\"location\":\"Los Angeles, CA\",\"snippet\":\" Kingdom One is looking for a part time Web Developer to join the team. Kingdom One is a rapidly growing non-profit organization. This work will be like nothing you\\xe2\\x80\\x99ve ever done before!\\xc2\\xa0\\\\r\\\\n\\\\r\\\\n We exist to help build courageous, healthy and effective ministries. \\\\r\\\\n You\\xe2\\x80\\x99ll ...\",\"salary\":\"\",\"source\":\"jazzhr.com\",\"type\":\"Part-time\",\"link\":\"https://jooble.org/jdp/8910654686968148573\",\"company\":\"Kingdom One\",\"updated\":\"2025-03-27T00:00:00.0000000\",\"id\":8910654686968148573}]}'\n"
     ]
    }
   ],
   "source": [
    "#API von Jooble \n",
    "#API ist begrenzt auf 500 Versuche, kann aber neu Anfragen\n",
    "#Man findet allerdings keine Schweizer jobs sondern lediglich Jobs in den USA\n",
    "\n",
    "api_key = \"191d9abc-7de2-4e48-a82f-ad26afef2234\"\n",
    "\n",
    "import http.client\n",
    "\n",
    "host = 'jooble.org'\n",
    "key = api_key\n",
    "\n",
    "connection = http.client.HTTPConnection(host)\n",
    "#request headers\n",
    "headers = {\"Content-type\": \"application/json\"}\n",
    "#json query\n",
    "body = '{ \"keywords\": \"IT\", \"location\": \"Los Angeles\"}'\n",
    "\n",
    "connection.request('POST','/api/' + key, body, headers)\n",
    "response = connection.getresponse()\n",
    "print(response.status, response.reason)\n",
    "print(response.read())\n",
    "\n",
    "#API funktioniert. Variablen nach denen gesucht werden sind:\n",
    "#Keywords: keywords: Keywords to search for jobs by.\n",
    "#location: Location to search for jobs in.\n",
    "#radius (optional): Search radius, converted to kilometers (type: string).\n",
    "#salary (optional): Minimum salary for the job search (type: integer).\n",
    "#page (optional): The page number of the search results.\n",
    "#ResultOnPage (optional): Number of jobs displayed on each page.\n",
    "#SearchMode (optional): The search mode, default is 0.\n",
    "#companysearch (optional):\n",
    "    #true – To search for keywords in the company name of the job.\n",
    "    #false – To search for keywords in the job title or description.\n",
    "\n"
   ]
  },
  {
   "cell_type": "code",
   "execution_count": null,
   "metadata": {},
   "outputs": [
    {
     "name": "stdout",
     "output_type": "stream",
     "text": [
      "Software Entwickler (m/w/d) bei Universal-Job AG in St. Gallen\n",
      "ERP Softwareentwickler:in – Modern Solutions mit D365 BC (m/w/d) bei ROCKEN in St. Gallen\n",
      "Softwareentwickler(in) - R / Shiny, Python (Temporary) bei INACTA in St. Gallen\n",
      "(Interner) Softwareentwickler (m/w/d) bei GUS Schweiz AG in St. Gallen\n",
      "Softwareentwickler für PLC-Systeme (m/w/d) bei ROCKEN in Uzwil\n",
      "SOFTWAREENTWICKLER IoT / IND. AUTOMATION – JUNIOR bei Olbrecht & Weber AG in Wil\n",
      "SPS Softwareentwickler (m/w/d) bei ROCKEN in St. Gallen\n",
      "Softwareentwickler/in IOT – Industrial Automation Junior bei Flexsis in Gossau\n",
      "Softwareentwickler Frontend bei EPS Software Engineering AG in Wil\n",
      "Softwareentwickler für Bedien- und Steuerungssysteme (m/w/d) bei Rocken® in St. Gallen\n"
     ]
    }
   ],
   "source": [
    "#API von SerpAPI\n",
    "#WICHTIG zum testen: SerpAPI bietet einen \"Playground\" an bei welchem man \n",
    "#die verschiedenen variablen testen kann.\n",
    "#so verschwenden wir keine Abfragen über den API Key selbst\n",
    "#Damit der Code funktioniert muss pip install google-search-results installiert werden, ist umständlich\n",
    "#Die API findet viele Jobs nahezu überall, allerdings sind soft-skills sehr schwer abzufragen\n",
    "\n",
    "api_key = \"4dd818979d563425bdc82e98c6de61b66d9940243f7ea7646352cb89ec2d78d2\"\n",
    "\n",
    "import warnings\n",
    "warnings.filterwarnings(\"ignore\", category=UserWarning) #Die API Abfrage gibt ansonsten eine Warnung ab, da \n",
    "# das urllib3-Modul, welches von requests verwendet wird (und damit auch von SerpApi), stattdessen OpenSSL ≥ 1.1.1 empfiehlt\n",
    "\n",
    "from serpapi import GoogleSearch\n",
    "\n",
    "params = {\n",
    "    \"engine\": \"google_jobs\",\n",
    "    \"q\": \"Softwareentwickler\",\n",
    "    \"location\" : \"St.Gallen\",\n",
    "    \"hl\": \"de\",\n",
    "    \"gl\": \"ch\",\n",
    "    \"api_key\": api_key\n",
    "}\n",
    "\n",
    "search = GoogleSearch(params)\n",
    "results = search.get_dict()\n",
    "\n",
    "for job in results.get(\"jobs_results\", []):\n",
    "    print(f\"{job['title']} bei {job['company_name']} in {job['location']}\") #es lassen sich \n",
    "    #viele weitere Angaben darstellen bei den Resultaten -> siehe Dokumentation\n",
    "\n",
    "#Das ist mal eine einfache Abfrage für Softwareentwickler in St.Gallen\n"
   ]
  }
 ],
 "metadata": {
  "copyright": {
   "author": "Bernhard Bermeitinger",
   "email": "bernhard.bermeitinger@unisg.ch"
  },
  "kernelspec": {
   "display_name": "Python 3",
   "language": "python",
   "name": "python3"
  },
  "language_info": {
   "codemirror_mode": {
    "name": "ipython",
    "version": 3
   },
   "file_extension": ".py",
   "mimetype": "text/x-python",
   "name": "python",
   "nbconvert_exporter": "python",
   "pygments_lexer": "ipython3",
   "version": "3.9.6"
  },
  "toc-autonumbering": false,
  "toc-showcode": false,
  "widgets": {
   "application/vnd.jupyter.widget-state+json": {
    "state": {},
    "version_major": 2,
    "version_minor": 0
   }
  }
 },
 "nbformat": 4,
 "nbformat_minor": 4
}
