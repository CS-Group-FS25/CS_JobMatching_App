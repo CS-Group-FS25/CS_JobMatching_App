{
 "cells": [
  {
   "cell_type": "code",
   "execution_count": null,
   "metadata": {},
   "outputs": [
    {
     "name": "stdout",
     "output_type": "stream",
     "text": [
      "200 OK\n",
      "b'{\"totalCount\":1,\"jobs\":[{\"title\":\"Field Construction Specialist\",\"location\":\"Sabetha, KS\",\"snippet\":\" Job Narrative: Unleash Your Potential in Construction \\\\r\\\\n Step into the world of Greenfield Contractors LLC, a thriving general contracting firm specializing in the innovative assembly of Fabric-Covered Hoop Buildings. With a decade of experience and dozens of high-profile...\",\"salary\":\"\",\"source\":\"100hires.com\",\"type\":\"\",\"link\":\"https://jooble.org/jdp/1814383525503473803\",\"company\":\"Greenfield Construction Cont.\",\"updated\":\"2025-04-09T17:51:21.8930200+00:00\",\"id\":1814383525503473803}]}'\n"
     ]
    }
   ],
   "source": [
    "#API von Jooble \n",
    "#API ist begrenzt auf 500 Versuche, kann aber neu Anfragen\n",
    "\n",
    "api_key = \"191d9abc-7de2-4e48-a82f-ad26afef2234\"\n",
    "\n",
    "import http.client\n",
    "\n",
    "host = 'jooble.org'\n",
    "key = api_key\n",
    "\n",
    "connection = http.client.HTTPConnection(host)\n",
    "#request headers\n",
    "headers = {\"Content-type\": \"application/json\"}\n",
    "#json query\n",
    "body = '{ \"keywords\": \"it\", \"location\": \"Bern\"}'\n",
    "\n",
    "connection.request('POST','/api/' + key, body, headers)\n",
    "response = connection.getresponse()\n",
    "print(response.status, response.reason)\n",
    "print(response.read())\n",
    "\n",
    "#API funktioniert. Variablen nach denen gesucht werden sind:\n",
    "#Keywords: keywords: Keywords to search for jobs by.\n",
    "#location: Location to search for jobs in.\n",
    "#radius (optional): Search radius, converted to kilometers (type: string).\n",
    "#salary (optional): Minimum salary for the job search (type: integer).\n",
    "#page (optional): The page number of the search results.\n",
    "#ResultOnPage (optional): Number of jobs displayed on each page.\n",
    "#SearchMode (optional): The search mode, default is 0.\n",
    "#companysearch (optional):\n",
    "    #true – To search for keywords in the company name of the job.\n",
    "    #false – To search for keywords in the job title or description."
   ]
  }
 ],
 "metadata": {
  "copyright": {
   "author": "Bernhard Bermeitinger",
   "email": "bernhard.bermeitinger@unisg.ch"
  },
  "kernelspec": {
   "display_name": "Python 3",
   "language": "python",
   "name": "python3"
  },
  "language_info": {
   "codemirror_mode": {
    "name": "ipython",
    "version": 3
   },
   "file_extension": ".py",
   "mimetype": "text/x-python",
   "name": "python",
   "nbconvert_exporter": "python",
   "pygments_lexer": "ipython3",
   "version": "3.9.6"
  },
  "toc-autonumbering": false,
  "toc-showcode": false,
  "widgets": {
   "application/vnd.jupyter.widget-state+json": {
    "state": {},
    "version_major": 2,
    "version_minor": 0
   }
  }
 },
 "nbformat": 4,
 "nbformat_minor": 4
}
